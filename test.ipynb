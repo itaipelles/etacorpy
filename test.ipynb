{
 "cells": [
  {
   "cell_type": "code",
   "execution_count": 14,
   "metadata": {},
   "outputs": [
    {
     "name": "stdout",
     "output_type": "stream",
     "text": [
      "env: NUMBA_DISABLE_JIT=1\n"
     ]
    },
    {
     "data": {
      "text/plain": [
       "-0.1175071348601271"
      ]
     },
     "execution_count": 14,
     "metadata": {},
     "output_type": "execute_result"
    }
   ],
   "source": [
    "%env NUMBA_DISABLE_JIT=1\n",
    "\n",
    "from etacorpy.calc_rta_n import calc_rta_n\n",
    "from etacorpy.calc_eta_n import calc_eta_n\n",
    "import numpy as np\n",
    "\n",
    "\n",
    "calc_rta_n(np.random.rand(100), np.random.rand(100), 1)\n",
    "calc_eta_n(np.random.rand(100), np.random.rand(100), 1)"
   ]
  },
  {
   "cell_type": "code",
   "execution_count": 2,
   "metadata": {},
   "outputs": [
    {
     "name": "stdout",
     "output_type": "stream",
     "text": [
      "env: NUMBA_DISABLE_JIT=1\n"
     ]
    }
   ],
   "source": [
    "%env NUMBA_DISABLE_JIT=1\n",
    "\n",
    "from etacorpy.calc_rta_n import calc_rta_n\n",
    "from etacorpy.calc_eta_n import calc_eta_n, calc_alpha_n\n",
    "import numpy as np\n",
    "\n",
    "ns = [2**i for i in range(1,10)]\n",
    "cfs = [0.1,0.5,1,2,5,10]\n",
    "for coverage_factor in cfs:\n",
    "    for n in ns:\n",
    "        rta_n = calc_rta_n(np.arange(n), np.arange(n), coverage_factor=coverage_factor)\n",
    "        L = np.sqrt(coverage_factor/n)\n",
    "        alpha_n = calc_alpha_n(n,  np.sqrt(coverage_factor/n))\n",
    "        err = np.abs(rta_n - alpha_n)\n",
    "        if (err > 1e-10):\n",
    "            print(n, coverage_factor, rta_n, alpha_n, err,L,1/(n+1))"
   ]
  },
  {
   "cell_type": "code",
   "execution_count": 3,
   "metadata": {},
   "outputs": [
    {
     "data": {
      "text/plain": [
       "array([[0.        , 0.        , 0.1118034 , 0.1118034 ],\n",
       "       [0.22152993, 0.22152993, 0.44513673, 0.44513673]])"
      ]
     },
     "execution_count": 3,
     "metadata": {},
     "output_type": "execute_result"
    }
   ],
   "source": [
    "from etacorpy.calc_rta_n import create_clipped_rectangles_around_points, fast_rank_data\n",
    "\n",
    "\n",
    "x= [0,2]\n",
    "y = [1,3]\n",
    "n = len(x)\n",
    "x = fast_rank_data(x,n)/(n+1)\n",
    "y = fast_rank_data(y,n)/(n+1)\n",
    "edge_length = 0.22360679774997896\n",
    "rectangles = create_clipped_rectangles_around_points(x,y,edge_length)\n",
    "# create_clipped_rectangles_around_points([0,2],[1,2],0.22360679774997896)\n",
    "rectangles"
   ]
  }
 ],
 "metadata": {
  "kernelspec": {
   "display_name": "pml",
   "language": "python",
   "name": "python3"
  },
  "language_info": {
   "codemirror_mode": {
    "name": "ipython",
    "version": 3
   },
   "file_extension": ".py",
   "mimetype": "text/x-python",
   "name": "python",
   "nbconvert_exporter": "python",
   "pygments_lexer": "ipython3",
   "version": "3.10.13"
  }
 },
 "nbformat": 4,
 "nbformat_minor": 2
}
